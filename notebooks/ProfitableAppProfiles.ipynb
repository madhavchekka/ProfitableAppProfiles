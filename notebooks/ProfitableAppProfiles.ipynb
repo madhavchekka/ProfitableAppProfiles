{
 "cells": [
  {
   "cell_type": "markdown",
   "metadata": {},
   "source": [
    "# Profitable App Profiles for the App Store and Google Play Markets \n",
    "\n",
    "Project is to find the profitable app profiles for the Appstore and Google Play markets.\n",
    "\n",
    "\n",
    "Our company build apps that are free to download and install. Main source of revenue consists of in-app adds and therefore our revenue for any given app is mostly infulenced by the number of users who use our app. Goal of the project is to analyze data to help our developers understand what type of apps are likely to attract more users \n",
    "\n",
    "\n",
    "\n"
   ]
  },
  {
   "cell_type": "code",
   "execution_count": 1,
   "metadata": {},
   "outputs": [
    {
     "data": {
      "text/plain": [
       "'AppleStore.csv'"
      ]
     },
     "execution_count": 1,
     "metadata": {},
     "output_type": "execute_result"
    }
   ],
   "source": [
    "'AppleStore.csv'"
   ]
  },
  {
   "cell_type": "code",
   "execution_count": 2,
   "metadata": {},
   "outputs": [
    {
     "ename": "FileNotFoundError",
     "evalue": "[Errno 2] No such file or directory: 'AppleStore.csv'",
     "output_type": "error",
     "traceback": [
      "\u001b[0;31m---------------------------------------------------------------------------\u001b[0m",
      "\u001b[0;31mFileNotFoundError\u001b[0m                         Traceback (most recent call last)",
      "\u001b[0;32m<ipython-input-2-2fe8a9478c40>\u001b[0m in \u001b[0;36m<module>\u001b[0;34m\u001b[0m\n\u001b[0;32m----> 1\u001b[0;31m \u001b[0mopened_file\u001b[0m \u001b[0;34m=\u001b[0m \u001b[0mopen\u001b[0m\u001b[0;34m(\u001b[0m\u001b[0;34m'AppleStore.csv'\u001b[0m\u001b[0;34m)\u001b[0m\u001b[0;34m\u001b[0m\u001b[0;34m\u001b[0m\u001b[0m\n\u001b[0m\u001b[1;32m      2\u001b[0m \u001b[0;32mfrom\u001b[0m \u001b[0mcsv\u001b[0m \u001b[0;32mimport\u001b[0m \u001b[0mreader\u001b[0m\u001b[0;34m\u001b[0m\u001b[0;34m\u001b[0m\u001b[0m\n\u001b[1;32m      3\u001b[0m \u001b[0mread_file\u001b[0m \u001b[0;34m=\u001b[0m \u001b[0mreader\u001b[0m\u001b[0;34m(\u001b[0m\u001b[0mopened_file\u001b[0m\u001b[0;34m)\u001b[0m\u001b[0;34m\u001b[0m\u001b[0;34m\u001b[0m\u001b[0m\n\u001b[1;32m      4\u001b[0m \u001b[0mappstore_data\u001b[0m \u001b[0;34m=\u001b[0m \u001b[0mlist\u001b[0m\u001b[0;34m(\u001b[0m\u001b[0mread_file\u001b[0m\u001b[0;34m)\u001b[0m\u001b[0;34m\u001b[0m\u001b[0;34m\u001b[0m\u001b[0m\n\u001b[1;32m      5\u001b[0m \u001b[0;34m\u001b[0m\u001b[0m\n",
      "\u001b[0;31mFileNotFoundError\u001b[0m: [Errno 2] No such file or directory: 'AppleStore.csv'"
     ]
    }
   ],
   "source": [
    "opened_file = open('AppleStore.csv')\n",
    "from csv import reader \n",
    "read_file = reader(opened_file)\n",
    "appstore_data = list(read_file)\n",
    "\n",
    "opened_file = open('googleplaystore.csv')\n",
    "from csv import reader \n",
    "read_file = reader(opened_file)\n",
    "playstore_data = list(read_file)\n"
   ]
  },
  {
   "cell_type": "code",
   "execution_count": 65,
   "metadata": {},
   "outputs": [
    {
     "name": "stdout",
     "output_type": "stream",
     "text": [
      "['id', 'track_name', 'size_bytes', 'currency', 'price', 'rating_count_tot', 'rating_count_ver', 'user_rating', 'user_rating_ver', 'ver', 'cont_rating', 'prime_genre', 'sup_devices.num', 'ipadSc_urls.num', 'lang.num', 'vpp_lic']\n",
      "\n",
      "\n",
      "['284882215', 'Facebook', '389879808', 'USD', '0.0', '2974676', '212', '3.5', '3.5', '95.0', '4+', 'Social Networking', '37', '1', '29', '1']\n",
      "\n",
      "\n",
      "['389801252', 'Instagram', '113954816', 'USD', '0.0', '2161558', '1289', '4.5', '4.0', '10.23', '12+', 'Photo & Video', '37', '0', '29', '1']\n",
      "\n",
      "\n",
      "['529479190', 'Clash of Clans', '116476928', 'USD', '0.0', '2130805', '579', '4.5', '4.5', '9.24.12', '9+', 'Games', '38', '5', '18', '1']\n",
      "\n",
      "\n",
      "['420009108', 'Temple Run', '65921024', 'USD', '0.0', '1724546', '3842', '4.5', '4.0', '1.6.2', '9+', 'Games', '40', '5', '1', '1']\n",
      "\n",
      "\n",
      "Number of rows: 7198\n",
      "Number of columns: 16\n",
      "['App', 'Category', 'Rating', 'Reviews', 'Size', 'Installs', 'Type', 'Price', 'Content Rating', 'Genres', 'Last Updated', 'Current Ver', 'Android Ver']\n",
      "\n",
      "\n",
      "['Photo Editor & Candy Camera & Grid & ScrapBook', 'ART_AND_DESIGN', '4.1', '159', '19M', '10,000+', 'Free', '0', 'Everyone', 'Art & Design', 'January 7, 2018', '1.0.0', '4.0.3 and up']\n",
      "\n",
      "\n",
      "['Coloring book moana', 'ART_AND_DESIGN', '3.9', '967', '14M', '500,000+', 'Free', '0', 'Everyone', 'Art & Design;Pretend Play', 'January 15, 2018', '2.0.0', '4.0.3 and up']\n",
      "\n",
      "\n",
      "['U Launcher Lite – FREE Live Cool Themes, Hide Apps', 'ART_AND_DESIGN', '4.7', '87510', '8.7M', '5,000,000+', 'Free', '0', 'Everyone', 'Art & Design', 'August 1, 2018', '1.2.4', '4.0.3 and up']\n",
      "\n",
      "\n",
      "['Sketch - Draw & Paint', 'ART_AND_DESIGN', '4.5', '215644', '25M', '50,000,000+', 'Free', '0', 'Teen', 'Art & Design', 'June 8, 2018', 'Varies with device', '4.2 and up']\n",
      "\n",
      "\n",
      "Number of rows: 10842\n",
      "Number of columns: 13\n"
     ]
    }
   ],
   "source": [
    "def explore_data(dataset, start, end, rows_and_columns=False):\n",
    "    dataset_slice = dataset[start:end]    \n",
    "    for row in dataset_slice:\n",
    "        print(row)\n",
    "        print('\\n') # adds a new (empty) line after each row\n",
    "\n",
    "    if rows_and_columns:\n",
    "        print('Number of rows:', len(dataset))\n",
    "        print('Number of columns:', len(dataset[0]))\n",
    "\n",
    "        \n",
    "explore_data(appstore_data,0,5,True)\n",
    "explore_data(playstore_data,0,5,True)"
   ]
  },
  {
   "cell_type": "code",
   "execution_count": 66,
   "metadata": {},
   "outputs": [
    {
     "name": "stdout",
     "output_type": "stream",
     "text": [
      "['mobLee Events', 'EVENTS', 'NaN', '11', '11M', '5,000+', 'Free', '0', 'Everyone', 'Events', 'May 30, 2018', '3.05.30.16', '4.1 and up']\n"
     ]
    }
   ],
   "source": [
    "print(playstore_data[1042])\n"
   ]
  },
  {
   "cell_type": "code",
   "execution_count": 67,
   "metadata": {
    "collapsed": true
   },
   "outputs": [],
   "source": [
    "del playstore_data[1042]"
   ]
  },
  {
   "cell_type": "code",
   "execution_count": 68,
   "metadata": {},
   "outputs": [
    {
     "name": "stdout",
     "output_type": "stream",
     "text": [
      "['Xceed - Clubs, DJs, Festivals & Tickets', 'EVENTS', '4.1', '399', '24M', '100,000+', 'Free', '0', 'Everyone', 'Events', 'August 3, 2018', 'Cannonau 3.11.11', '5.0 and up']\n"
     ]
    }
   ],
   "source": [
    "print(playstore_data[1042])"
   ]
  },
  {
   "cell_type": "markdown",
   "metadata": {
    "collapsed": true
   },
   "source": [
    "Exploring the Google Play data set, it is not too hard to notice that it has lot of duplicate entries. We don't want to count certain apps more than once when we analyze data, so we need to remove the duplicate entries and keep only one entry per app. For example, lets analyze the data to see how many times app 'Facebook' is listed"
   ]
  },
  {
   "cell_type": "code",
   "execution_count": 69,
   "metadata": {},
   "outputs": [
    {
     "name": "stdout",
     "output_type": "stream",
     "text": [
      "['Facebook', 'SOCIAL', '4.1', '78158306', 'Varies with device', '1,000,000,000+', 'Free', '0', 'Teen', 'Social', 'August 3, 2018', 'Varies with device', 'Varies with device']\n",
      "['Facebook', 'SOCIAL', '4.1', '78128208', 'Varies with device', '1,000,000,000+', 'Free', '0', 'Teen', 'Social', 'August 3, 2018', 'Varies with device', 'Varies with device']\n",
      "\n",
      "\n",
      "['284882215', 'Facebook', '389879808', 'USD', '0.0', '2974676', '212', '3.5', '3.5', '95.0', '4+', 'Social Networking', '37', '1', '29', '1']\n"
     ]
    }
   ],
   "source": [
    "for app in playstore_data:\n",
    "    name = app[0]\n",
    "    if name == 'Facebook':\n",
    "        print(app)\n",
    "\n",
    "print('\\n')\n",
    "\n",
    "for app in appstore_data:\n",
    "    name = app[1]\n",
    "    if name == 'Facebook':\n",
    "        print(app)\n",
    "\n"
   ]
  },
  {
   "cell_type": "markdown",
   "metadata": {},
   "source": [
    "That is just Facebook app. Lets count the number of duplicates that are in the Google Play data set."
   ]
  },
  {
   "cell_type": "code",
   "execution_count": 80,
   "metadata": {},
   "outputs": [
    {
     "name": "stdout",
     "output_type": "stream",
     "text": [
      "Number of duplicate apps:  1181\n",
      "\n",
      "\n",
      "Examples of duplicate_apps:  ['Quick PDF Scanner + OCR FREE', 'Box', 'Google My Business', 'ZOOM Cloud Meetings', 'join.me - Simple Meetings', 'Box', 'Zenefits', 'Google Ads', 'Google My Business', 'Slack']\n",
      "Number of duplicate apps:  18368\n",
      "\n",
      "\n",
      "Examples of duplicate_apps:  ['Quick PDF Scanner + OCR FREE', 'Box', 'Google My Business', 'ZOOM Cloud Meetings', 'join.me - Simple Meetings', 'Box', 'Zenefits', 'Google Ads', 'Google My Business', 'Slack']\n"
     ]
    }
   ],
   "source": [
    "duplicate_android_apps = []\n",
    "unique_android_apps = []\n",
    "\n",
    "for app in playstore_data:\n",
    "    name = app[0]\n",
    "    if name in unique_android_apps:\n",
    "        duplicate_android_apps.append(name)\n",
    "    else:\n",
    "        unique_android_apps.append(name)\n",
    "\n",
    "print('Number of duplicate apps: ', len(duplicate_android_apps))\n",
    "print('\\n')\n",
    "print('Examples of duplicate_apps: ', duplicate_android_apps[:10])\n",
    "\n",
    "\n",
    "for app in appstore_data:\n",
    "    name = app[1]\n",
    "    if name in unique_apps:\n",
    "        duplicate_apps.append(name)\n",
    "    else:\n",
    "        unique_apps.append(name)\n",
    "\n",
    "print('Number of duplicate apps: ', len(duplicate_apps))\n",
    "print('\\n')\n",
    "print('Examples of duplicate_apps: ', duplicate_apps[:10])\n",
    "\n"
   ]
  },
  {
   "cell_type": "code",
   "execution_count": 71,
   "metadata": {},
   "outputs": [
    {
     "name": "stdout",
     "output_type": "stream",
     "text": [
      "['Facebook', 'SOCIAL', '4.1', '78158306', 'Varies with device', '1,000,000,000+', 'Free', '0', 'Teen', 'Social', 'August 3, 2018', 'Varies with device', 'Varies with device']\n",
      "['Facebook', 'SOCIAL', '4.1', '78128208', 'Varies with device', '1,000,000,000+', 'Free', '0', 'Teen', 'Social', 'August 3, 2018', 'Varies with device', 'Varies with device']\n"
     ]
    }
   ],
   "source": [
    "for app in playstore_data:\n",
    "    name = app[0]\n",
    "    if name == 'Facebook':\n",
    "        print(app)\n",
    "\n"
   ]
  },
  {
   "cell_type": "markdown",
   "metadata": {},
   "source": [
    "The higher the number of reviews, the more recent the data should be. Rather than removing duplicates randomly, we'll only keep the row with the highest number of reviews and remove the other entries for any given app."
   ]
  },
  {
   "cell_type": "code",
   "execution_count": 72,
   "metadata": {},
   "outputs": [
    {
     "name": "stdout",
     "output_type": "stream",
     "text": [
      "9659\n"
     ]
    }
   ],
   "source": [
    "reviews_max = {}\n",
    "for app in playstore_data[1:]:\n",
    "    name = app[0]\n",
    "    if app[3] == '3.0M':\n",
    "        n_reviews = float(3000000)\n",
    "    else:\n",
    "        n_reviews = float(app[3])\n",
    "    if name in reviews_max:\n",
    "        if reviews_max[name] < n_reviews:\n",
    "            reviews_max[name] = n_reviews\n",
    "    else:\n",
    "        reviews_max[name] = n_reviews\n",
    "\n",
    "print(len(reviews_max))"
   ]
  },
  {
   "cell_type": "code",
   "execution_count": 73,
   "metadata": {},
   "outputs": [
    {
     "name": "stdout",
     "output_type": "stream",
     "text": [
      "9659\n",
      "9659\n"
     ]
    }
   ],
   "source": [
    "android_clean = []\n",
    "already_added = []\n",
    "\n",
    "for app in playstore_data[1:]:\n",
    "    name = app[0]\n",
    "    \n",
    "    if app[3] == '3.0M':\n",
    "        n_reviews = float(3000000)\n",
    "    else:\n",
    "        n_reviews = float(app[3])\n",
    "        \n",
    "    if n_reviews == reviews_max[name]:\n",
    "        \n",
    "        if name not in already_added:\n",
    "            \n",
    "            android_clean.append(app)\n",
    "            already_added.append(name)\n",
    "\n",
    "print(len(android_clean))\n",
    "print(len(already_added))\n",
    "        \n",
    "        \n",
    "    "
   ]
  },
  {
   "cell_type": "code",
   "execution_count": 74,
   "metadata": {},
   "outputs": [
    {
     "name": "stdout",
     "output_type": "stream",
     "text": [
      "Number of duplicate apps:  0\n",
      "\n",
      "\n",
      "Examples of duplicate_apps:  []\n"
     ]
    }
   ],
   "source": [
    "duplicates = []\n",
    "unique = []\n",
    "\n",
    "for app in android_clean:\n",
    "    name = app[0]\n",
    "    if name in unique_apps:\n",
    "        duplicate_apps.append(name)\n",
    "    else:\n",
    "        unique_apps.append(name)\n",
    "\n",
    "print('Number of duplicate apps: ', len(duplicates))\n",
    "print('\\n')\n",
    "print('Examples of duplicate_apps: ', duplicates[:10])\n"
   ]
  },
  {
   "cell_type": "code",
   "execution_count": 75,
   "metadata": {},
   "outputs": [
    {
     "name": "stdout",
     "output_type": "stream",
     "text": [
      "True\n",
      "False\n",
      "True\n",
      "True\n"
     ]
    }
   ],
   "source": [
    "def is_it_english_app(app_name):\n",
    "    count = 0\n",
    "    for letter in app_name:\n",
    "        if 0 <= ord(letter) <= 127:\n",
    "            pass\n",
    "        else:\n",
    "            count += 1\n",
    "            if count > 3:\n",
    "                return False \n",
    "            else:\n",
    "                pass\n",
    "    return True\n",
    "\n",
    "print(is_it_english_app('Instagram'))\n",
    "print(is_it_english_app('爱奇艺PPS -《欢乐颂2》电视剧热播'))\n",
    "print(is_it_english_app('Docs To Go™ Free Office Suite'))\n",
    "print(is_it_english_app('Instachat 😜'))"
   ]
  },
  {
   "cell_type": "code",
   "execution_count": 76,
   "metadata": {},
   "outputs": [
    {
     "name": "stdout",
     "output_type": "stream",
     "text": [
      "8482\n",
      "128540\n"
     ]
    }
   ],
   "source": [
    "print(ord('™'))\n",
    "print(ord('😜'))"
   ]
  },
  {
   "cell_type": "code",
   "execution_count": 77,
   "metadata": {},
   "outputs": [
    {
     "name": "stdout",
     "output_type": "stream",
     "text": [
      "9614\n",
      "8862\n"
     ]
    }
   ],
   "source": [
    "playstore_english_apps = []\n",
    "\n",
    "for app in android_clean:\n",
    "    name = app[0]\n",
    "    if is_it_english_app(name):\n",
    "        playstore_english_apps.append(app)\n",
    "    else:\n",
    "        pass\n",
    "\n",
    "print(len(playstore_english_apps))\n",
    "\n",
    "free_eng_apps_android = []\n",
    "\n",
    "for app in playstore_english_apps:\n",
    "    type = app[6]\n",
    "    if type == 'Free':\n",
    "        free_eng_apps_android.append(app)\n",
    "    else:\n",
    "        pass\n",
    "\n",
    "print(len(free_eng_apps_android))\n",
    "        "
   ]
  },
  {
   "cell_type": "code",
   "execution_count": 78,
   "metadata": {},
   "outputs": [
    {
     "name": "stdout",
     "output_type": "stream",
     "text": [
      "{'MEDICAL': 3.5319341006544795, 'EVENTS': 0.699616339426766, 'DATING': 1.8618821936357481, 'BOOKS_AND_REFERENCE': 2.143985556307831, 'COMICS': 0.6206273978785828, 'SHOPPING': 2.2455427668697814, 'FOOD_AND_DRINK': 1.2412547957571656, 'FINANCE': 3.7011961182577298, 'NEWS_AND_MAGAZINES': 2.798465357707064, 'SPORTS': 3.39652448657188, 'LIBRARIES_AND_DEMO': 0.9365831640713158, 'HOUSE_AND_HOME': 0.8237418190024826, 'GAME': 9.726923944933423, 'FAMILY': 18.900925299029563, 'PHOTOGRAPHY': 2.945159106296547, 'ART_AND_DESIGN': 0.6431956668923494, 'EDUCATION': 1.162265854208982, 'PRODUCTIVITY': 3.8930264048747465, 'AUTO_AND_VEHICLES': 0.9252990295644324, 'HEALTH_AND_FITNESS': 3.080568720379147, 'WEATHER': 0.8011735499887158, 'TOOLS': 8.463100880162491, 'BEAUTY': 0.598059128864816, 'ENTERTAINMENT': 0.9591514330850823, 'COMMUNICATION': 3.238546603475513, 'PARENTING': 0.6544798013992327, 'BUSINESS': 4.5926427443015125, 'SOCIAL': 2.663055743624464, 'PERSONALIZATION': 3.3175355450236967, 'LIFESTYLE': 3.9043105393816293, 'MAPS_AND_NAVIGATION': 1.399232678853532, 'TRAVEL_AND_LOCAL': 2.335815842924848, 'VIDEO_PLAYERS': 1.7941773865944481}\n",
      "\n",
      "\n",
      "{'Role Playing': 0.9365831640713158, 'Educational;Education': 0.3949447077409162, 'Parenting': 0.49650191830286616, 'Finance': 3.7011961182577298, 'Art & Design;Action & Adventure': 0.011284134506883321, 'Casual;Brain Games': 0.13540961408259986, 'Education;Music & Video': 0.033852403520649964, 'Parenting;Brain Games': 0.011284134506883321, 'Action': 3.1031369893929135, 'Music;Music & Video': 0.022568269013766643, 'Arcade;Action & Adventure': 0.12412547957571654, 'Parenting;Music & Video': 0.06770480704129993, 'Art & Design': 0.598059128864816, 'Strategy': 0.9027307605506657, 'House & Home': 0.8237418190024826, 'Art & Design;Creativity': 0.06770480704129993, 'Strategy;Creativity': 0.011284134506883321, 'Educational;Creativity': 0.033852403520649964, 'Entertainment;Pretend Play': 0.022568269013766643, 'Adventure;Education': 0.011284134506883321, 'Simulation;Education': 0.011284134506883321, 'Libraries & Demo': 0.9365831640713158, 'Art & Design;Pretend Play': 0.011284134506883321, 'Board;Brain Games': 0.07898894154818326, 'Adventure;Action & Adventure': 0.033852403520649964, 'Educational;Pretend Play': 0.09027307605506657, 'Comics;Creativity': 0.011284134506883321, 'Education;Education': 0.3385240352064997, 'Education;Action & Adventure': 0.033852403520649964, 'Arcade;Pretend Play': 0.011284134506883321, 'Maps & Navigation': 1.399232678853532, 'Social': 2.663055743624464, 'Education;Creativity': 0.045136538027533285, 'News & Magazines': 2.798465357707064, 'Sports;Action & Adventure': 0.022568269013766643, 'Lifestyle;Education': 0.011284134506883321, 'Word': 0.2595350936583164, 'Role Playing;Brain Games': 0.011284134506883321, 'Travel & Local': 2.324531708417964, 'Business': 4.5926427443015125, 'Tools': 8.451816745655607, 'Weather': 0.8011735499887158, 'Board': 0.3836605732340329, 'Tools;Education': 0.011284134506883321, 'Puzzle;Action & Adventure': 0.033852403520649964, 'Arcade': 1.8505980591288649, 'Role Playing;Action & Adventure': 0.033852403520649964, 'Dating': 1.8618821936357481, 'Shopping': 2.2455427668697814, 'Music': 0.2031144211238998, 'Events': 0.699616339426766, 'Casual;Creativity': 0.06770480704129993, 'Education;Pretend Play': 0.056420672534416606, 'Puzzle': 1.128413450688332, 'Auto & Vehicles': 0.9252990295644324, 'Travel & Local;Action & Adventure': 0.011284134506883321, 'Health & Fitness;Action & Adventure': 0.011284134506883321, 'Entertainment;Brain Games': 0.07898894154818326, 'Action;Action & Adventure': 0.1015572105619499, 'Puzzle;Brain Games': 0.16926201760324985, 'Entertainment;Music & Video': 0.16926201760324985, 'Health & Fitness;Education': 0.011284134506883321, 'Beauty': 0.598059128864816, 'Entertainment;Action & Adventure': 0.033852403520649964, 'Racing;Action & Adventure': 0.16926201760324985, 'Video Players & Editors;Creativity': 0.011284134506883321, 'Casual': 1.7603249830737984, 'Music & Audio;Music & Video': 0.011284134506883321, 'Racing': 0.9930038366057323, 'Video Players & Editors': 1.7716091175806816, 'Strategy;Action & Adventure': 0.011284134506883321, 'Comics': 0.6093432633716994, 'Lifestyle': 3.8930264048747465, 'Entertainment;Creativity': 0.033852403520649964, 'Lifestyle;Pretend Play': 0.011284134506883321, 'Books & Reference': 2.143985556307831, 'Entertainment;Education': 0.011284134506883321, 'Medical': 3.5319341006544795, 'Educational;Action & Adventure': 0.033852403520649964, 'Education': 5.348679756262695, 'Educational;Brain Games': 0.06770480704129993, 'Casual;Education': 0.022568269013766643, 'Adventure': 0.6770480704129994, 'Card;Action & Adventure': 0.011284134506883321, 'Photography': 2.945159106296547, 'Communication': 3.238546603475513, 'Parenting;Education': 0.07898894154818326, 'Trivia': 0.41751297675468296, 'Books & Reference;Education': 0.011284134506883321, 'Simulation;Action & Adventure': 0.07898894154818326, 'Casual;Action & Adventure': 0.13540961408259986, 'Racing;Pretend Play': 0.011284134506883321, 'Sports': 3.4642292936131795, 'Trivia;Education': 0.011284134506883321, 'Puzzle;Creativity': 0.022568269013766643, 'Role Playing;Pretend Play': 0.045136538027533285, 'Puzzle;Education': 0.011284134506883321, 'Video Players & Editors;Music & Video': 0.022568269013766643, 'Casino': 0.4287971112615662, 'Casual;Music & Video': 0.011284134506883321, 'Simulation;Pretend Play': 0.022568269013766643, 'Simulation': 2.0424283457458814, 'Productivity': 3.8930264048747465, 'Communication;Creativity': 0.011284134506883321, 'Educational': 0.3723764387271496, 'Card': 0.45136538027533285, 'Board;Action & Adventure': 0.022568269013766643, 'Entertainment': 6.070864364703228, 'Food & Drink': 1.2412547957571656, 'Personalization': 3.3175355450236967, 'Education;Brain Games': 0.033852403520649964, 'Health & Fitness': 3.080568720379147, 'Casual;Pretend Play': 0.23696682464454977, 'Strategy;Education': 0.011284134506883321}\n"
     ]
    }
   ],
   "source": [
    "def freq_table(dataset,index):\n",
    "    total_number_of_apps = len(free_eng_apps_android)\n",
    "    freq_table = {}\n",
    "    \n",
    "    for app in dataset:\n",
    "        value = app[index]\n",
    "        if value in freq_table:\n",
    "            freq_table[value] +=1\n",
    "        else:\n",
    "            freq_table[value] = 1\n",
    "\n",
    "    for key in freq_table:\n",
    "        proportion = freq_table[key]/total_number_of_apps\n",
    "        percentage = proportion*100\n",
    "        freq_table[key] = percentage\n",
    "    \n",
    "    return freq_table\n",
    "    \n",
    "        \n",
    "print(freq_table(free_eng_apps_android,1)) \n",
    "print('\\n')\n",
    "print(freq_table(free_eng_apps_android,9))"
   ]
  },
  {
   "cell_type": "code",
   "execution_count": 79,
   "metadata": {
    "scrolled": false
   },
   "outputs": [
    {
     "name": "stdout",
     "output_type": "stream",
     "text": [
      "FAMILY : 18.900925299029563\n",
      "GAME : 9.726923944933423\n",
      "TOOLS : 8.463100880162491\n",
      "BUSINESS : 4.5926427443015125\n",
      "LIFESTYLE : 3.9043105393816293\n",
      "PRODUCTIVITY : 3.8930264048747465\n",
      "FINANCE : 3.7011961182577298\n",
      "MEDICAL : 3.5319341006544795\n",
      "SPORTS : 3.39652448657188\n",
      "PERSONALIZATION : 3.3175355450236967\n",
      "COMMUNICATION : 3.238546603475513\n",
      "HEALTH_AND_FITNESS : 3.080568720379147\n",
      "PHOTOGRAPHY : 2.945159106296547\n",
      "NEWS_AND_MAGAZINES : 2.798465357707064\n",
      "SOCIAL : 2.663055743624464\n",
      "TRAVEL_AND_LOCAL : 2.335815842924848\n",
      "SHOPPING : 2.2455427668697814\n",
      "BOOKS_AND_REFERENCE : 2.143985556307831\n",
      "DATING : 1.8618821936357481\n",
      "VIDEO_PLAYERS : 1.7941773865944481\n",
      "MAPS_AND_NAVIGATION : 1.399232678853532\n",
      "FOOD_AND_DRINK : 1.2412547957571656\n",
      "EDUCATION : 1.162265854208982\n",
      "ENTERTAINMENT : 0.9591514330850823\n",
      "LIBRARIES_AND_DEMO : 0.9365831640713158\n",
      "AUTO_AND_VEHICLES : 0.9252990295644324\n",
      "HOUSE_AND_HOME : 0.8237418190024826\n",
      "WEATHER : 0.8011735499887158\n",
      "EVENTS : 0.699616339426766\n",
      "PARENTING : 0.6544798013992327\n",
      "ART_AND_DESIGN : 0.6431956668923494\n",
      "COMICS : 0.6206273978785828\n",
      "BEAUTY : 0.598059128864816\n",
      "\n",
      "\n",
      "Tools : 8.451816745655607\n",
      "Entertainment : 6.070864364703228\n",
      "Education : 5.348679756262695\n",
      "Business : 4.5926427443015125\n",
      "Productivity : 3.8930264048747465\n",
      "Lifestyle : 3.8930264048747465\n",
      "Finance : 3.7011961182577298\n",
      "Medical : 3.5319341006544795\n",
      "Sports : 3.4642292936131795\n",
      "Personalization : 3.3175355450236967\n",
      "Communication : 3.238546603475513\n",
      "Action : 3.1031369893929135\n",
      "Health & Fitness : 3.080568720379147\n",
      "Photography : 2.945159106296547\n",
      "News & Magazines : 2.798465357707064\n",
      "Social : 2.663055743624464\n",
      "Travel & Local : 2.324531708417964\n",
      "Shopping : 2.2455427668697814\n",
      "Books & Reference : 2.143985556307831\n",
      "Simulation : 2.0424283457458814\n",
      "Dating : 1.8618821936357481\n",
      "Arcade : 1.8505980591288649\n",
      "Video Players & Editors : 1.7716091175806816\n",
      "Casual : 1.7603249830737984\n",
      "Maps & Navigation : 1.399232678853532\n",
      "Food & Drink : 1.2412547957571656\n",
      "Puzzle : 1.128413450688332\n",
      "Racing : 0.9930038366057323\n",
      "Role Playing : 0.9365831640713158\n",
      "Libraries & Demo : 0.9365831640713158\n",
      "Auto & Vehicles : 0.9252990295644324\n",
      "Strategy : 0.9027307605506657\n",
      "House & Home : 0.8237418190024826\n",
      "Weather : 0.8011735499887158\n",
      "Events : 0.699616339426766\n",
      "Adventure : 0.6770480704129994\n",
      "Comics : 0.6093432633716994\n",
      "Beauty : 0.598059128864816\n",
      "Art & Design : 0.598059128864816\n",
      "Parenting : 0.49650191830286616\n",
      "Card : 0.45136538027533285\n",
      "Casino : 0.4287971112615662\n",
      "Trivia : 0.41751297675468296\n",
      "Educational;Education : 0.3949447077409162\n",
      "Board : 0.3836605732340329\n",
      "Educational : 0.3723764387271496\n",
      "Education;Education : 0.3385240352064997\n",
      "Word : 0.2595350936583164\n",
      "Casual;Pretend Play : 0.23696682464454977\n",
      "Music : 0.2031144211238998\n",
      "Racing;Action & Adventure : 0.16926201760324985\n",
      "Puzzle;Brain Games : 0.16926201760324985\n",
      "Entertainment;Music & Video : 0.16926201760324985\n",
      "Casual;Brain Games : 0.13540961408259986\n",
      "Casual;Action & Adventure : 0.13540961408259986\n",
      "Arcade;Action & Adventure : 0.12412547957571654\n",
      "Action;Action & Adventure : 0.1015572105619499\n",
      "Educational;Pretend Play : 0.09027307605506657\n",
      "Simulation;Action & Adventure : 0.07898894154818326\n",
      "Parenting;Education : 0.07898894154818326\n",
      "Entertainment;Brain Games : 0.07898894154818326\n",
      "Board;Brain Games : 0.07898894154818326\n",
      "Parenting;Music & Video : 0.06770480704129993\n",
      "Educational;Brain Games : 0.06770480704129993\n",
      "Casual;Creativity : 0.06770480704129993\n",
      "Art & Design;Creativity : 0.06770480704129993\n",
      "Education;Pretend Play : 0.056420672534416606\n",
      "Role Playing;Pretend Play : 0.045136538027533285\n",
      "Education;Creativity : 0.045136538027533285\n",
      "Role Playing;Action & Adventure : 0.033852403520649964\n",
      "Puzzle;Action & Adventure : 0.033852403520649964\n",
      "Entertainment;Creativity : 0.033852403520649964\n",
      "Entertainment;Action & Adventure : 0.033852403520649964\n",
      "Educational;Creativity : 0.033852403520649964\n",
      "Educational;Action & Adventure : 0.033852403520649964\n",
      "Education;Music & Video : 0.033852403520649964\n",
      "Education;Brain Games : 0.033852403520649964\n",
      "Education;Action & Adventure : 0.033852403520649964\n",
      "Adventure;Action & Adventure : 0.033852403520649964\n",
      "Video Players & Editors;Music & Video : 0.022568269013766643\n",
      "Sports;Action & Adventure : 0.022568269013766643\n",
      "Simulation;Pretend Play : 0.022568269013766643\n",
      "Puzzle;Creativity : 0.022568269013766643\n",
      "Music;Music & Video : 0.022568269013766643\n",
      "Entertainment;Pretend Play : 0.022568269013766643\n",
      "Casual;Education : 0.022568269013766643\n",
      "Board;Action & Adventure : 0.022568269013766643\n",
      "Video Players & Editors;Creativity : 0.011284134506883321\n",
      "Trivia;Education : 0.011284134506883321\n",
      "Travel & Local;Action & Adventure : 0.011284134506883321\n",
      "Tools;Education : 0.011284134506883321\n",
      "Strategy;Education : 0.011284134506883321\n",
      "Strategy;Creativity : 0.011284134506883321\n",
      "Strategy;Action & Adventure : 0.011284134506883321\n",
      "Simulation;Education : 0.011284134506883321\n",
      "Role Playing;Brain Games : 0.011284134506883321\n",
      "Racing;Pretend Play : 0.011284134506883321\n",
      "Puzzle;Education : 0.011284134506883321\n",
      "Parenting;Brain Games : 0.011284134506883321\n",
      "Music & Audio;Music & Video : 0.011284134506883321\n",
      "Lifestyle;Pretend Play : 0.011284134506883321\n",
      "Lifestyle;Education : 0.011284134506883321\n",
      "Health & Fitness;Education : 0.011284134506883321\n",
      "Health & Fitness;Action & Adventure : 0.011284134506883321\n",
      "Entertainment;Education : 0.011284134506883321\n",
      "Communication;Creativity : 0.011284134506883321\n",
      "Comics;Creativity : 0.011284134506883321\n",
      "Casual;Music & Video : 0.011284134506883321\n",
      "Card;Action & Adventure : 0.011284134506883321\n",
      "Books & Reference;Education : 0.011284134506883321\n",
      "Art & Design;Pretend Play : 0.011284134506883321\n",
      "Art & Design;Action & Adventure : 0.011284134506883321\n",
      "Arcade;Pretend Play : 0.011284134506883321\n",
      "Adventure;Education : 0.011284134506883321\n"
     ]
    }
   ],
   "source": [
    "def display_table(dataset, index):\n",
    "    table = freq_table(dataset, index)\n",
    "    table_display = []\n",
    "    for key in table:\n",
    "        key_val_as_tuple = (table[key], key)\n",
    "        table_display.append(key_val_as_tuple)\n",
    "\n",
    "    table_sorted = sorted(table_display, reverse = True)\n",
    "    for entry in table_sorted:\n",
    "        print(entry[1], ':', entry[0])\n",
    "\n",
    "display_table(free_eng_apps_android,1)\n",
    "print('\\n')\n",
    "display_table(free_eng_apps_android,9)"
   ]
  },
  {
   "cell_type": "code",
   "execution_count": null,
   "metadata": {
    "collapsed": true
   },
   "outputs": [],
   "source": []
  }
 ],
 "metadata": {
  "kernelspec": {
   "display_name": "Python 3",
   "language": "python",
   "name": "python3"
  },
  "language_info": {
   "codemirror_mode": {
    "name": "ipython",
    "version": 3
   },
   "file_extension": ".py",
   "mimetype": "text/x-python",
   "name": "python",
   "nbconvert_exporter": "python",
   "pygments_lexer": "ipython3",
   "version": "3.7.6"
  }
 },
 "nbformat": 4,
 "nbformat_minor": 2
}
